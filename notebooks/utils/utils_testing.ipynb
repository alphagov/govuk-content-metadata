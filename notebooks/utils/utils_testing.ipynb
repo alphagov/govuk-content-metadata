{
 "cells": [
  {
   "cell_type": "code",
   "execution_count": null,
   "metadata": {},
   "outputs": [],
   "source": [
    "import argparse\n",
    "import json\n",
    "import re\n",
    "from collections import OrderedDict\n",
    "\n",
    "import pandas as pd"
   ]
  },
  {
   "cell_type": "code",
   "execution_count": null,
   "metadata": {},
   "outputs": [],
   "source": [
    "from src.utils.mdl_to_govgraph import list_wrangle"
   ]
  },
  {
   "cell_type": "code",
   "execution_count": null,
   "metadata": {},
   "outputs": [],
   "source": [
    "test_data = [\n",
    "    {\n",
    "        \"/government/people/alan-gillespie\": [\n",
    "            [\"A Gillespie\", \"PERSON\", 17, 28],\n",
    "            [\"10 December 2021\", \"DATE\", 46, 62],\n",
    "            [\"MOD\", \"ORG\", 77, 80],\n",
    "            [\"Defence Intelligence Staff\", \"ORG\", 96, 122],\n",
    "            [\"MOD\", \"ORG\", 127, 130],\n",
    "            [\"USAF Central Command\", \"ORG\", 196, 216],\n",
    "            [\"Combined Air Operations Centre\", \"ORG\", 217, 247],\n",
    "            [\"CAOC\", \"ORG\", 249, 253],\n",
    "            [\"Qatar\", \"GPE\", 256, 261],\n",
    "            [\"Afghanistan\", \"GPE\", 356, 367],\n",
    "            [\"RAF Waddington\", \"ORG\", 434, 448],\n",
    "            [\"ISTAR\", \"ORG\", 453, 458],\n",
    "            [\"UK\", \"GPE\", 475, 477],\n",
    "            [\"Royal College of Defence Studies\", \"ORG\", 660, 692],\n",
    "        ]\n",
    "    },\n",
    "    {\n",
    "        \"/government/people/alan-gogbashian\": [\n",
    "            [\"Alan Gogbashian\", \"PERSON\", 0, 15],\n",
    "            [\"Chicago\", \"GPE\", 63, 70],\n",
    "            [\"January 2020\", \"DATE\", 74, 86],\n",
    "            [\"UK\", \"GPE\", 120, 122],\n",
    "            [\"Colorado\", \"GPE\", 160, 168],\n",
    "            [\"Illinois\", \"GPE\", 170, 178],\n",
    "            [\"Indiana\", \"GPE\", 180, 187],\n",
    "            [\"Iowa\", \"GPE\", 189, 193],\n",
    "            [\"Kansas\", \"GPE\", 195, 201],\n",
    "            [\"Kentucky\", \"GPE\", 203, 211],\n",
    "            [\"Michigan\", \"GPE\", 213, 221],\n",
    "            [\"Minnesota\", \"GPE\", 223, 232],\n",
    "            [\"Missouri\", \"GPE\", 234, 242],\n",
    "            [\"Nebraska\", \"GPE\", 244, 252],\n",
    "            [\"North Dakota\", \"GPE\", 254, 266],\n",
    "            [\"Ohio\", \"GPE\", 268, 272],\n",
    "            [\"South Dakota\", \"GPE\", 274, 286],\n",
    "            [\"Wisconsin\", \"GPE\", 291, 300],\n",
    "            [\"Alan\", \"PERSON\", 302, 306],\n",
    "            [\"British diplomatic service\", \"ORG\", 332, 358],\n",
    "            [\"2008\", \"DATE\", 365, 369],\n",
    "            [\"Morocco\", \"GPE\", 428, 435],\n",
    "            [\"Mauritania\", \"GPE\", 440, 450],\n",
    "            [\"Foreign and Commonwealth Office\", \"ORG\", 540, 571],\n",
    "            [\"Alan\", \"PERSON\", 573, 577],\n",
    "            [\"London\", \"GPE\", 605, 611],\n",
    "            [\"Paris\", \"GPE\", 616, 621],\n",
    "            [\"King’s College London\", \"ORG\", 698, 719],\n",
    "        ]\n",
    "    },\n",
    "    {\"/government/people/alan-hammill\": []},\n",
    "    {\n",
    "        \"/government/people/alan-henry\": [\n",
    "            [\"Alan Henry\", \"PERSON\", 0, 10],\n",
    "            [\"Equality Commission\", \"ORG\", 173, 192],\n",
    "            [\"Civil Service Commission\", \"ORG\", 198, 222],\n",
    "            [\"Human Rights Commission\", \"ORG\", 231, 254],\n",
    "            [\"N Ireland\", \"GPE\", 263, 272],\n",
    "            [\n",
    "                \"Office of Industrial Tribunals and Fair Employment Tribunals\",\n",
    "                \"ORG\",\n",
    "                314,\n",
    "                374,\n",
    "            ],\n",
    "            [\"Commissioner for Public Appointments\", \"ORG\", 412, 448],\n",
    "            [\"N Ireland\", \"GPE\", 452, 461],\n",
    "            [\"South Eastern Regional College\", \"ORG\", 491, 521],\n",
    "            [\"Blackwater Integrated College\", \"ORG\", 542, 571],\n",
    "            [\"Alan\", \"PERSON\", 573, 577],\n",
    "            [\"2009\", \"DATE\", 620, 624],\n",
    "            [\"April 2013\", \"DATE\", 781, 791],\n",
    "            [\"March 2016\", \"DATE\", 803, 813],\n",
    "            [\n",
    "                \"– Office of Industrial and Fair Employment Tribunals Assessor\",\n",
    "                \"ORG\",\n",
    "                850,\n",
    "                911,\n",
    "            ],\n",
    "            [\"– Commissioner for Public Appointments\", \"ORG\", 912, 950],\n",
    "            [\"Northern Ireland\", \"GPE\", 952, 968],\n",
    "            [\"Unremunerated Interests Council\", \"ORG\", 969, 1000],\n",
    "            [\"– Northern Ireland Council\", \"ORG\", 1008, 1034],\n",
    "            [\"– South Eastern Regional College\", \"ORG\", 1071, 1103],\n",
    "            [\"– Blackwater Integrated College\", \"ORG\", 1113, 1144],\n",
    "            [\"5 May 2013\", \"DATE\", 1310, 1320],\n",
    "        ]\n",
    "    },\n",
    "    {\n",
    "        \"/government/people/alan-johnson\": [\n",
    "            [\"Alan Johnson\", \"PERSON\", 0, 12],\n",
    "            [\"Department for International Development\", \"ORG\", 49, 89],\n",
    "            [\"DFID\", \"ORG\", 91, 95],\n",
    "            [\"October 2018\", \"DATE\", 102, 114],\n",
    "            [\"August 2020\", \"DATE\", 118, 129],\n",
    "            [\"DFID\", \"ORG\", 148, 152],\n",
    "            [\"Alan Johnson\", \"PERSON\", 162, 174],\n",
    "            [\"Unilever\", \"ORG\", 199, 207],\n",
    "            [\"International Federation of Accountants\", \"ORG\", 396, 435],\n",
    "            [\"British School in Lisbon\", \"ORG\", 444, 468],\n",
    "        ]\n",
    "    },\n",
    "]"
   ]
  },
  {
   "cell_type": "code",
   "execution_count": null,
   "metadata": {},
   "outputs": [],
   "source": [
    "filec = \"/Users/roryhurley/Documents/GitHub/govuk-content-metadata/data/processed/entities_200722_description_21.jsonl\"\n",
    "\n",
    "lines = []\n",
    "for line in open(filec, \"r\"):\n",
    "    lines.append(json.loads(line))"
   ]
  },
  {
   "cell_type": "code",
   "execution_count": null,
   "metadata": {},
   "outputs": [],
   "source": [
    "lines"
   ]
  },
  {
   "cell_type": "code",
   "execution_count": null,
   "metadata": {},
   "outputs": [],
   "source": []
  }
 ],
 "metadata": {
  "language_info": {
   "codemirror_mode": {
    "name": "ipython",
    "version": 3
   },
   "file_extension": ".py",
   "mimetype": "text/x-python",
   "name": "python",
   "nbconvert_exporter": "python",
   "pygments_lexer": "ipython3",
   "version": "3.9.12"
  },
  "vscode": {
   "interpreter": {
    "hash": "cb78078aff4f0fca0b87149217d885ad4dd99935d8eaa10d490c5420d431fcbd"
   }
  }
 },
 "nbformat": 4,
 "nbformat_minor": 2
}
