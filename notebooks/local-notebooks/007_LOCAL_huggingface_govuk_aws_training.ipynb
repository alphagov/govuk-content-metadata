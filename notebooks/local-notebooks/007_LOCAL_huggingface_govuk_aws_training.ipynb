{
 "cells": [
  {
   "cell_type": "markdown",
   "id": "c95df288",
   "metadata": {},
   "source": [
    "# Test1: HuggingFace and AWS Sagemaker Training"
   ]
  },
  {
   "cell_type": "markdown",
   "id": "062d8c3b",
   "metadata": {},
   "source": [
    "## Intro\n",
    "\n",
    "This is a notebook to test the HuggingFace transformers and datasets library together with a custom Amazon sagemaker-sdk extension to fine-tune a pre-trained transformer for multi-class text classification.\n",
    "\n",
    "The pre-trained model will be fine-tuned using the govuk labelled dataset."
   ]
  },
  {
   "cell_type": "code",
   "execution_count": null,
   "id": "845ffcd7",
   "metadata": {},
   "outputs": [],
   "source": [
    "#!pip3 install datasets\n",
    "#!pip3 install transformers\n",
    "#!pip3 install sagemaker\n",
    "#!pip3 install torch\n",
    "#!pip3 install tensorflow\n",
    "#!pip3 install boto3"
   ]
  },
  {
   "cell_type": "code",
   "execution_count": null,
   "id": "f5a7c715",
   "metadata": {},
   "outputs": [],
   "source": [
    "import os\n",
    "import secrets\n",
    "\n",
    "import boto3\n",
    "import sagemaker\n",
    "from datasets import load_dataset, load_from_disk\n",
    "from transformers import AutoTokenizer"
   ]
  },
  {
   "cell_type": "markdown",
   "id": "9df97a4f",
   "metadata": {},
   "source": [
    "## Permissions"
   ]
  },
  {
   "cell_type": "code",
   "execution_count": null,
   "id": "cedf3f66",
   "metadata": {},
   "outputs": [],
   "source": [
    "system = \"LOCAL\"  # ['LOCAL', 'AWS']\n",
    "s3_bucket = \"govuk-data-infrastructure-integration\"\n",
    "s3_prefix = \"model-data/huggingface_transformer_models\"  # s3 key prefix for the data\n",
    "\n",
    "tokenizer_name = \"bert-base-uncased\"  # tokenizer used in preprocessing\n",
    "dataset_name = \"hf_data\"  # dataset used"
   ]
  },
  {
   "cell_type": "code",
   "execution_count": null,
   "id": "a215ff62",
   "metadata": {},
   "outputs": [],
   "source": [
    "if system == \"AWS\":\n",
    "    # set up sagemaker session offline to manage interactions with the Amazon SageMaker APIs and any other AWS services needed.\n",
    "    # sagemaker session bucket -> used for uploading data, models and logs. sagemaker will automatically create this bucket if it not exists\n",
    "    sess = sagemaker.Session()\n",
    "    sagemaker_session_bucket = s3_bucket\n",
    "    if sagemaker_session_bucket is None and sess is not None:\n",
    "        # set to default bucket if a bucket name is not given\n",
    "        sagemaker_session_bucket = sess.default_bucket()\n",
    "\n",
    "    role = sagemaker.get_execution_role()\n",
    "    sess = sagemaker.Session(default_bucket=sagemaker_session_bucket)\n",
    "\n",
    "    print(f\"sagemaker role arn: {role}\")\n",
    "    print(f\"sagemaker bucket: {sess.default_bucket()}\")\n",
    "    print(f\"sagemaker session region: {sess.boto_region_name}\")\n",
    "\n",
    "if system == \"LOCAL\":\n",
    "    s3 = boto3.resource(\n",
    "        service_name=\"s3\",\n",
    "        region_name=\"eu-west-1\",\n",
    "    )"
   ]
  },
  {
   "cell_type": "code",
   "execution_count": null,
   "id": "06430a77",
   "metadata": {},
   "outputs": [],
   "source": [
    "# Creating the low level functional client\n",
    "client = boto3.client(\n",
    "    \"s3\",\n",
    "    aws_access_key_id=XXX,\n",
    "    aws_secret_access_key=XXX,\n",
    "    region_name=XXX,\n",
    ")"
   ]
  },
  {
   "cell_type": "code",
   "execution_count": null,
   "id": "7a6a3807",
   "metadata": {},
   "outputs": [],
   "source": [
    "# Fetch the list of existing buckets\n",
    "clientResponse = client.list_buckets()"
   ]
  },
  {
   "cell_type": "markdown",
   "id": "15bbefe1",
   "metadata": {},
   "source": [
    "## Preprocessing\n",
    "\n",
    "We are using the datasets library to download and preprocess the gov.uk labelled dataset. After preprocessing, the dataset will be uploaded to our sagemaker_session_bucket to be used within our training job. The gov.uk dataset consists of 16000 training examples, 2000 validation examples, and 2000 testing examples."
   ]
  },
  {
   "cell_type": "markdown",
   "id": "663cf03e",
   "metadata": {},
   "source": [
    "### Tokenization"
   ]
  },
  {
   "cell_type": "code",
   "execution_count": null,
   "id": "faaea7c7",
   "metadata": {},
   "outputs": [],
   "source": []
  },
  {
   "cell_type": "code",
   "execution_count": null,
   "id": "b4ea5ba1",
   "metadata": {},
   "outputs": [],
   "source": [
    "# from datasets import load_dataset\n",
    "\n",
    "# raw_datasets = load_dataset(\"conll2003\")\n",
    "\n",
    "# ner_data = raw_datasets"
   ]
  },
  {
   "cell_type": "code",
   "execution_count": null,
   "id": "27ceda1c",
   "metadata": {},
   "outputs": [],
   "source": [
    "# download tokenizer for 'distilbert-base-uncased'\n",
    "tokenizer = AutoTokenizer.from_pretrained(tokenizer_name)\n",
    "\n",
    "# tokenizer helper function\n",
    "def tokenize(batch):\n",
    "    return tokenizer(batch[\"text\"], padding=\"max_length\", truncation=True)"
   ]
  },
  {
   "cell_type": "code",
   "execution_count": null,
   "id": "1e970375",
   "metadata": {},
   "outputs": [],
   "source": [
    "import botocore\n",
    "from datasets.filesystems import S3FileSystem\n",
    "\n",
    "s3 = S3FileSystem()\n",
    "\n",
    "dataset_path = f\"s3://{sess.default_bucket()}/{s3_prefix}/hf_data\"\n",
    "\n",
    "# load dataset\n",
    "ner_data = load_from_disk(dataset_path, fs=s3)"
   ]
  },
  {
   "cell_type": "code",
   "execution_count": null,
   "id": "a1304a2a",
   "metadata": {},
   "outputs": [],
   "source": [
    "# rename columns in dataset dict\n",
    "ner_data = ner_data.rename_column(\n",
    "    original_column_name=\"text_token\", new_column_name=\"tokens\"\n",
    ")\n",
    "ner_data = ner_data.rename_column(\n",
    "    original_column_name=\"new_label_list_id\", new_column_name=\"ner_tags\"\n",
    ")\n",
    "ner_data"
   ]
  },
  {
   "cell_type": "code",
   "execution_count": null,
   "id": "4dc0b1bc",
   "metadata": {},
   "outputs": [],
   "source": [
    "ner_data[\"train\"].features[\"ner_tags\"]"
   ]
  },
  {
   "cell_type": "code",
   "execution_count": null,
   "id": "6ae1cf9b",
   "metadata": {},
   "outputs": [],
   "source": [
    "ner_feature = raw_datasets[\"train\"].features[\"ner_tags\"]\n",
    "ner_feature"
   ]
  },
  {
   "cell_type": "code",
   "execution_count": null,
   "id": "313303e2",
   "metadata": {},
   "outputs": [],
   "source": [
    "label_names = ner_feature.feature.names\n",
    "label_names"
   ]
  },
  {
   "cell_type": "code",
   "execution_count": null,
   "id": "fcb0bc8b",
   "metadata": {},
   "outputs": [],
   "source": [
    "new_label_map = {\n",
    "    \"O\": 0,\n",
    "    \"CONTACT\": 1,\n",
    "    \"DATE\": 2,\n",
    "    \"EVENT\": 3,\n",
    "    \"FINANCE\": 4,\n",
    "    \"FORM\": 5,\n",
    "    \"LOCATION\": 6,\n",
    "    \"MISC\": 7,\n",
    "    \"MONEY\": 8,\n",
    "    \"ORGANIZATION\": 9,\n",
    "    \"PERSON\": 10,\n",
    "    \"SCHEME\": 11,\n",
    "    \"STATE\": 12,\n",
    "}\n",
    "\n",
    "label_names = [i for i in new_label_map.keys()]\n",
    "label_names"
   ]
  },
  {
   "cell_type": "code",
   "execution_count": null,
   "id": "58069fec",
   "metadata": {},
   "outputs": [],
   "source": [
    "words = ner_data[\"train\"][2][\"tokens\"]\n",
    "labels = ner_data[\"train\"][2][\"ner_tags\"]\n",
    "line1 = \"\"\n",
    "line2 = \"\"\n",
    "for word, label in zip(words, labels):\n",
    "    full_label = label_names[label]\n",
    "    max_length = max(len(word), len(full_label))\n",
    "    line1 += word + \" \" * (max_length - len(word) + 1)\n",
    "    line2 += full_label + \" \" * (max_length - len(full_label) + 1)\n",
    "\n",
    "print(line1)\n",
    "print(line2)"
   ]
  },
  {
   "cell_type": "markdown",
   "id": "8b96788d",
   "metadata": {},
   "source": [
    "## Processing the data"
   ]
  },
  {
   "cell_type": "code",
   "execution_count": null,
   "id": "90fda75b",
   "metadata": {},
   "outputs": [],
   "source": [
    "from transformers import AutoTokenizer\n",
    "\n",
    "model_checkpoint = \"bert-base-cased\"\n",
    "tokenizer = AutoTokenizer.from_pretrained(model_checkpoint)"
   ]
  },
  {
   "cell_type": "code",
   "execution_count": null,
   "id": "e7ce47cf",
   "metadata": {},
   "outputs": [],
   "source": [
    "tokenizer.is_fast"
   ]
  },
  {
   "cell_type": "code",
   "execution_count": null,
   "id": "27045148",
   "metadata": {},
   "outputs": [],
   "source": [
    "inputs = tokenizer(ner_data[\"train\"][0][\"tokens\"], is_split_into_words=True)\n",
    "inputs.tokens()"
   ]
  },
  {
   "cell_type": "code",
   "execution_count": null,
   "id": "84bde894",
   "metadata": {},
   "outputs": [],
   "source": [
    "inputs.word_ids()"
   ]
  },
  {
   "cell_type": "code",
   "execution_count": null,
   "id": "4b5e9130",
   "metadata": {},
   "outputs": [],
   "source": [
    "def align_labels_with_tokens(labels, word_ids):\n",
    "    new_labels = []\n",
    "    current_word = None\n",
    "    for word_id in word_ids:\n",
    "        if word_id != current_word:\n",
    "            # Start of a new word!\n",
    "            current_word = word_id\n",
    "            label = -100 if word_id is None else labels[word_id]\n",
    "            new_labels.append(label)\n",
    "        elif word_id is None:\n",
    "            # Special token\n",
    "            new_labels.append(-100)\n",
    "        else:\n",
    "            # Same word as previous token\n",
    "            label = labels[word_id]\n",
    "            # If the label is B-XXX we change it to I-XXX\n",
    "            if label % 2 == 1:\n",
    "                label += 1\n",
    "            new_labels.append(label)\n",
    "\n",
    "    return new_labels"
   ]
  },
  {
   "cell_type": "code",
   "execution_count": null,
   "id": "5fed58d1",
   "metadata": {},
   "outputs": [],
   "source": [
    "labels = ner_data[\"train\"][0][\"ner_tags\"]\n",
    "word_ids = inputs.word_ids()\n",
    "print(len(labels))\n",
    "print(labels)\n",
    "print(len(word_ids))\n",
    "print(align_labels_with_tokens(labels, word_ids))"
   ]
  },
  {
   "cell_type": "code",
   "execution_count": null,
   "id": "7ff9fd87",
   "metadata": {},
   "outputs": [],
   "source": [
    "def tokenize_and_align_labels(examples):\n",
    "    tokenized_inputs = tokenizer(\n",
    "        examples[\"tokens\"], truncation=True, is_split_into_words=True\n",
    "    )\n",
    "    all_labels = examples[\"ner_tags\"]\n",
    "    new_labels = []\n",
    "    for i, labels in enumerate(all_labels):\n",
    "        word_ids = tokenized_inputs.word_ids(i)\n",
    "        new_labels.append(align_labels_with_tokens(labels, word_ids))\n",
    "    tokenized_inputs[\"labels\"] = new_labels\n",
    "    return tokenized_inputs"
   ]
  },
  {
   "cell_type": "code",
   "execution_count": null,
   "id": "be79a32b",
   "metadata": {},
   "outputs": [],
   "source": [
    "tokenized_ner_data = ner_data.map(\n",
    "    tokenize_and_align_labels,\n",
    "    batched=True,\n",
    "    remove_columns=ner_data[\"train\"].column_names,\n",
    ")"
   ]
  },
  {
   "cell_type": "code",
   "execution_count": null,
   "id": "cf701e69",
   "metadata": {},
   "outputs": [],
   "source": [
    "from transformers import DataCollatorForTokenClassification\n",
    "\n",
    "data_collator = DataCollatorForTokenClassification(tokenizer=tokenizer)"
   ]
  },
  {
   "cell_type": "code",
   "execution_count": null,
   "id": "15a2a671",
   "metadata": {},
   "outputs": [],
   "source": [
    "batch = data_collator([tokenized_ner_data[\"train\"][i] for i in range(2)])\n",
    "batch[\"labels\"]"
   ]
  },
  {
   "cell_type": "code",
   "execution_count": null,
   "id": "bf97ba03",
   "metadata": {},
   "outputs": [],
   "source": [
    "!pip install seqeval"
   ]
  },
  {
   "cell_type": "code",
   "execution_count": null,
   "id": "b5a6e7b7",
   "metadata": {},
   "outputs": [],
   "source": [
    "from datasets import load_metric\n",
    "\n",
    "metric = load_metric(\"seqeval\")"
   ]
  },
  {
   "cell_type": "code",
   "execution_count": null,
   "id": "15fbaf43",
   "metadata": {},
   "outputs": [],
   "source": [
    "import numpy as np\n",
    "\n",
    "\n",
    "def compute_metrics(eval_preds):\n",
    "    logits, labels = eval_preds\n",
    "    predictions = np.argmax(logits, axis=-1)\n",
    "\n",
    "    # Remove ignored index (special tokens) and convert to labels\n",
    "    true_labels = [[label_names[l] for l in label if l != -100] for label in labels]\n",
    "    true_predictions = [\n",
    "        [label_names[p] for (p, l) in zip(prediction, label) if l != -100]\n",
    "        for prediction, label in zip(predictions, labels)\n",
    "    ]\n",
    "    all_metrics = metric.compute(predictions=true_predictions, references=true_labels)\n",
    "    return {\n",
    "        \"precision\": all_metrics[\"overall_precision\"],\n",
    "        \"recall\": all_metrics[\"overall_recall\"],\n",
    "        \"f1\": all_metrics[\"overall_f1\"],\n",
    "        \"accuracy\": all_metrics[\"overall_accuracy\"],\n",
    "    }"
   ]
  },
  {
   "cell_type": "code",
   "execution_count": null,
   "id": "774bc9c8",
   "metadata": {},
   "outputs": [],
   "source": [
    "id2label = {str(i): label for i, label in enumerate(label_names)}\n",
    "label2id = {v: k for k, v in id2label.items()}"
   ]
  },
  {
   "cell_type": "code",
   "execution_count": null,
   "id": "7bb56a0b",
   "metadata": {},
   "outputs": [],
   "source": [
    "from transformers import AutoModelForTokenClassification\n",
    "\n",
    "model = AutoModelForTokenClassification.from_pretrained(\n",
    "    model_checkpoint,\n",
    "    id2label=id2label,\n",
    "    label2id=label2id,\n",
    ")"
   ]
  },
  {
   "cell_type": "code",
   "execution_count": null,
   "id": "bac667fb",
   "metadata": {},
   "outputs": [],
   "source": [
    "model.config.num_labels"
   ]
  },
  {
   "cell_type": "code",
   "execution_count": null,
   "id": "f6fd78c5",
   "metadata": {},
   "outputs": [],
   "source": [
    "from transformers import TrainingArguments\n",
    "\n",
    "args = TrainingArguments(\n",
    "    \"bert-finetuned-ner\",\n",
    "    evaluation_strategy=\"epoch\",\n",
    "    save_strategy=\"epoch\",\n",
    "    learning_rate=2e-5,\n",
    "    num_train_epochs=3,\n",
    "    weight_decay=0.01,\n",
    "    push_to_hub=False,\n",
    ")"
   ]
  },
  {
   "cell_type": "code",
   "execution_count": null,
   "id": "26f58a76",
   "metadata": {},
   "outputs": [],
   "source": [
    "!pip install torch==1.5.0"
   ]
  },
  {
   "cell_type": "code",
   "execution_count": null,
   "id": "d74673a1",
   "metadata": {},
   "outputs": [],
   "source": [
    "from transformers import Trainer\n",
    "\n",
    "trainer = Trainer(\n",
    "    model=model,\n",
    "    args=args,\n",
    "    train_dataset=tokenized_ner_data[\"train\"],\n",
    "    eval_dataset=tokenized_ner_data[\"validation\"],\n",
    "    data_collator=data_collator,\n",
    "    compute_metrics=compute_metrics,\n",
    "    tokenizer=tokenizer,\n",
    ")\n",
    "trainer.train()"
   ]
  },
  {
   "cell_type": "code",
   "execution_count": null,
   "id": "6ffbe24e",
   "metadata": {},
   "outputs": [],
   "source": []
  },
  {
   "cell_type": "code",
   "execution_count": null,
   "id": "2a02b34f",
   "metadata": {},
   "outputs": [],
   "source": []
  },
  {
   "cell_type": "code",
   "execution_count": null,
   "id": "b57e8642",
   "metadata": {},
   "outputs": [],
   "source": []
  },
  {
   "cell_type": "code",
   "execution_count": null,
   "id": "64b27b27",
   "metadata": {},
   "outputs": [],
   "source": []
  },
  {
   "cell_type": "code",
   "execution_count": null,
   "id": "414d815a",
   "metadata": {},
   "outputs": [],
   "source": [
    "# tokenize dataset\n",
    "train_dataset = train_dataset.map(tokenize, batched=True)\n",
    "test_dataset = test_dataset.map(tokenize, batched=True)\n",
    "\n",
    "# set format for pytorch\n",
    "train_dataset = train_dataset.rename_column(\"label\", \"labels\")\n",
    "train_dataset.set_format(\"torch\", columns=[\"input_ids\", \"attention_mask\", \"labels\"])\n",
    "test_dataset = test_dataset.rename_column(\"label\", \"labels\")\n",
    "test_dataset.set_format(\"torch\", columns=[\"input_ids\", \"attention_mask\", \"labels\"])"
   ]
  },
  {
   "cell_type": "markdown",
   "id": "b37a3984",
   "metadata": {},
   "source": [
    "### Uploading data to sagemaker_session_bucket\n",
    "\n",
    "After we processed the datasets we are going to use the new FileSystem integration to upload our dataset to S3."
   ]
  },
  {
   "cell_type": "code",
   "execution_count": null,
   "id": "c7a795e3",
   "metadata": {},
   "outputs": [],
   "source": [
    "import botocore\n",
    "from datasets.filesystems import S3FileSystem\n",
    "\n",
    "s3 = S3FileSystem()\n",
    "\n",
    "# save train_dataset to s3\n",
    "training_input_path = f\"s3://{sess.default_bucket()}/{s3_prefix}/train\"\n",
    "train_dataset.save_to_disk(training_input_path, fs=s3)\n",
    "\n",
    "# save test_dataset to s3\n",
    "test_input_path = f\"s3://{sess.default_bucket()}/{s3_prefix}/test\"\n",
    "test_dataset.save_to_disk(test_input_path, fs=s3)"
   ]
  },
  {
   "cell_type": "markdown",
   "id": "d3c2149d",
   "metadata": {},
   "source": [
    "## Fine-tuning & starting Sagemaker Training Job\n",
    "\n",
    "In order to create a sagemaker training job we need an HuggingFace Estimator. The Estimator handles end-to-end Amazon SageMaker training and deployment tasks. In a Estimator we define, which fine-tuning script should be used as entry_point, which instance_type should be used, which hyperparameters are passed in ....."
   ]
  },
  {
   "cell_type": "code",
   "execution_count": null,
   "id": "78b7194d",
   "metadata": {},
   "outputs": [],
   "source": [
    "#!pygmentize ./scripts/ner_training.py"
   ]
  },
  {
   "cell_type": "code",
   "execution_count": null,
   "id": "a8c74556",
   "metadata": {},
   "outputs": [],
   "source": [
    "#!python ./scripts/ner_training.py"
   ]
  },
  {
   "cell_type": "code",
   "execution_count": null,
   "id": "5bdab2e9",
   "metadata": {},
   "outputs": [],
   "source": [
    "import time\n",
    "\n",
    "from sagemaker.huggingface import HuggingFace\n",
    "\n",
    "# hyperparameters, which are passed into the training job\n",
    "hyperparameters = {\n",
    "    \"epochs\": 1,  # number of training epochs\n",
    "    \"train_batch_size\": 32,  # batch size for training\n",
    "    \"eval_batch_size\": 64,  # batch size for evaluation\n",
    "    \"learning_rate\": 3e-5,  # learning rate used during training\n",
    "    \"model_id\": \"distilbert-base-uncased\",  # pre-trained model\n",
    "    \"fp16\": True,  # Whether to use 16-bit (mixed) precision training\n",
    "}"
   ]
  },
  {
   "cell_type": "code",
   "execution_count": null,
   "id": "bce480a5",
   "metadata": {},
   "outputs": [],
   "source": [
    "# define Training Job Name\n",
    "job_name = f'huggingface-test-{time.strftime(\"%Y-%m-%d-%H-%M-%S\", time.localtime())}'\n",
    "\n",
    "# create the Estimator\n",
    "huggingface_estimator = HuggingFace(\n",
    "    entry_point=\"train.py\",  # fine-tuning script used in training jon\n",
    "    source_dir=\"./scripts\",  # directory where fine-tuning script is stored\n",
    "    instance_type=\"ml.p3.2xlarge\",  #   # instances type used for the training job\n",
    "    instance_count=1,  # the number of instances used for training\n",
    "    base_job_name=job_name,  # the name of the training job\n",
    "    role=role,  # Iam role used in training job to access AWS ressources, e.g. S3\n",
    "    transformers_version=\"4.6.1\",  # the transformers version used in the training job\n",
    "    pytorch_version=\"1.7.1\",  # the pytorch_version version used in the training job\n",
    "    py_version=\"py36\",  # the python version used in the training job\n",
    "    hyperparameters=hyperparameters,  # the hyperparameter used for running the training job\n",
    ")"
   ]
  },
  {
   "cell_type": "code",
   "execution_count": null,
   "id": "453d3938",
   "metadata": {},
   "outputs": [],
   "source": [
    "# define a data input dictonary with our uploaded s3 uris\n",
    "data = {\"train\": training_input_path, \"test\": test_input_path}\n",
    "\n",
    "# starting the train job with our uploaded datasets as input\n",
    "huggingface_estimator.fit(data, wait=True)"
   ]
  },
  {
   "cell_type": "markdown",
   "id": "98527fe9",
   "metadata": {},
   "source": [
    "## Deploying the endpoint\n",
    "\n",
    "To deploy our endpoint, we call deploy() on our HuggingFace estimator object, passing in our desired number of instances and instance type."
   ]
  },
  {
   "cell_type": "code",
   "execution_count": null,
   "id": "775e56ff",
   "metadata": {},
   "outputs": [],
   "source": [
    "# predictor = huggingface_estimator.deploy(1,\"ml.g4dn.xlarge\")"
   ]
  },
  {
   "cell_type": "markdown",
   "id": "2c7b4304",
   "metadata": {},
   "source": [
    "Then, we use the returned predictor object to call the endpoint."
   ]
  },
  {
   "cell_type": "code",
   "execution_count": null,
   "id": "8696308e",
   "metadata": {},
   "outputs": [],
   "source": [
    "# sentences = [{\"inputs\": \"I get so nervous before a demo\"}, #fear\n",
    "#              {\"inputs\": \"I am shocked that the API works so well \"}, #suprise\n",
    "#              {\"inputs\": \"It's a shame that I havent learned this sooner\"}, #sadness\n",
    "#              {\"inputs\": \"It's a disgrace that AWS is not free\"}, #anger\n",
    "#              {\"inputs\": \"I am delighted to have learned this amazing new technology\"}, #joy\n",
    "#              {\"inputs\": \"I was so shocked at my suprise party. I also hated every minute of it.\"} #suprise/anger\n",
    "#             ]\n",
    "\n",
    "# for sentence in sentences:\n",
    "#     prediction = predictor.predict(sentence)\n",
    "#     print(prediction)"
   ]
  },
  {
   "cell_type": "markdown",
   "id": "24658d30",
   "metadata": {},
   "source": [
    "**IMPORTANT** Finally, we delete the inference endpoint.\n",
    "\n"
   ]
  },
  {
   "cell_type": "code",
   "execution_count": null,
   "id": "173a8bcd",
   "metadata": {},
   "outputs": [],
   "source": [
    "predictor.delete_endpoint()"
   ]
  }
 ],
 "metadata": {
  "interpreter": {
   "hash": "aee8b7b246df8f9039afb4144a1f6fd8d2ca17a180786b69acc140d282b71a49"
  },
  "language_info": {
   "codemirror_mode": {
    "name": "ipython",
    "version": 3
   },
   "file_extension": ".py",
   "mimetype": "text/x-python",
   "name": "python",
   "nbconvert_exporter": "python",
   "pygments_lexer": "ipython3",
   "version": "3.9.7"
  }
 },
 "nbformat": 4,
 "nbformat_minor": 5
}
