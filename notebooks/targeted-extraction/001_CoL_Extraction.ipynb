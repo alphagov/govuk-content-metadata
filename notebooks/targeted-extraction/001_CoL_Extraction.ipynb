{
 "cells": [
  {
   "cell_type": "code",
   "execution_count": null,
   "metadata": {},
   "outputs": [],
   "source": [
    "import json\n",
    "import os\n",
    "\n",
    "import jsonlines\n",
    "import pandas as pd\n",
    "import spacy\n",
    "from dotenv import load_dotenv  # pip install python-dotenv\n",
    "from tqdm import tqdm\n",
    "from tqdm.auto import tqdm  # for notebooks\n",
    "\n",
    "# make sure a .env file exists in the same directory, with a line like this:\n",
    "# KG_PWD=<insert password here>\n",
    "load_dotenv()\n",
    "pd.set_option(\"display.max_columns\", None)\n",
    "tqdm.pandas()"
   ]
  },
  {
   "cell_type": "code",
   "execution_count": null,
   "metadata": {},
   "outputs": [],
   "source": [
    "from src.make_data import make_data"
   ]
  },
  {
   "cell_type": "code",
   "execution_count": null,
   "metadata": {},
   "outputs": [],
   "source": [
    "df = make_data.load_preprocessed_content_store(\n",
    "    path_to_gz=\"/tmp/govukmirror/preprocessed_content_store_250522.csv.gz\"\n",
    ")"
   ]
  },
  {
   "cell_type": "code",
   "execution_count": null,
   "metadata": {},
   "outputs": [],
   "source": [
    "df_trim = make_data.trim_dataframe(df, columns=[\"base_path\", \"content_id\", \"text\"])"
   ]
  },
  {
   "cell_type": "code",
   "execution_count": null,
   "metadata": {},
   "outputs": [],
   "source": [
    "df_trim = df_trim.dropna()"
   ]
  },
  {
   "cell_type": "code",
   "execution_count": null,
   "metadata": {},
   "outputs": [],
   "source": [
    "searchfor = [\"rebate\", \"refund\", \"allowance\"]\n",
    "df_trim_find = df_trim[df_trim[\"text\"].str.contains(\"|\".join(searchfor))]"
   ]
  },
  {
   "cell_type": "code",
   "execution_count": null,
   "metadata": {},
   "outputs": [],
   "source": [
    "df_trim_find.shape"
   ]
  },
  {
   "cell_type": "code",
   "execution_count": null,
   "metadata": {},
   "outputs": [],
   "source": [
    "df_trim_find.iloc[0][\"text\"]"
   ]
  },
  {
   "cell_type": "code",
   "execution_count": null,
   "metadata": {},
   "outputs": [],
   "source": [
    "import spacy\n",
    "from spacy.lang.en import English\n",
    "from spacy.matcher import Matcher\n",
    "\n",
    "nlp = English()\n",
    "ruler = nlp.add_pipe(\"entity_ruler\")\n",
    "\n",
    "ruler.from_disk(os.path.join(os.environ.get(\"DIR_DATA_INTERIM\"), \"col-patterns.jsonl\"))"
   ]
  },
  {
   "cell_type": "code",
   "execution_count": null,
   "metadata": {},
   "outputs": [],
   "source": [
    "doc1 = nlp(\"You could be due a rebate if...\")\n",
    "print([(ent.text, ent.label_) for ent in doc1.ents])"
   ]
  },
  {
   "cell_type": "code",
   "execution_count": null,
   "metadata": {},
   "outputs": [],
   "source": [
    "def find_pattern_match(text):\n",
    "    doc = nlp(text)\n",
    "    # print(doc.ents)\n",
    "    # print([(ent.text, ent.label_) for ent in doc.ents])\n",
    "    return [ent.text for ent in doc.ents]"
   ]
  },
  {
   "cell_type": "code",
   "execution_count": null,
   "metadata": {},
   "outputs": [],
   "source": [
    "def contains_pattern_match(text):\n",
    "    doc = nlp(text)\n",
    "    # print(doc.ents)\n",
    "    # print([(ent.text, ent.label_) for ent in doc.ents])\n",
    "    if not (doc.ents):\n",
    "        return False\n",
    "    else:\n",
    "        return True"
   ]
  },
  {
   "cell_type": "code",
   "execution_count": null,
   "metadata": {},
   "outputs": [],
   "source": [
    "contains_pattern_match(\"no rebate in sentence\")"
   ]
  },
  {
   "cell_type": "code",
   "execution_count": null,
   "metadata": {},
   "outputs": [],
   "source": [
    "df_trim_samp = df_trim.sample(10000)\n",
    "df_trim_samp[\"col_vocab\"] = df_trim_samp[\"text\"].progress_apply(\n",
    "    lambda x: contains_pattern_match(x)\n",
    ")"
   ]
  },
  {
   "cell_type": "code",
   "execution_count": null,
   "metadata": {},
   "outputs": [],
   "source": [
    "df_trim_samp[\"col_vocab\"].value_counts()"
   ]
  },
  {
   "cell_type": "code",
   "execution_count": null,
   "metadata": {},
   "outputs": [],
   "source": [
    "col_texts = df_trim_samp[df_trim_samp[\"col_vocab\"] == True]"
   ]
  },
  {
   "cell_type": "code",
   "execution_count": null,
   "metadata": {},
   "outputs": [],
   "source": [
    "col_texts = make_data.text_col_to_sents(col_texts, \"text\", \"sentences\")"
   ]
  },
  {
   "cell_type": "code",
   "execution_count": null,
   "metadata": {},
   "outputs": [],
   "source": [
    "make_data.sentences_to_jsonl(\n",
    "    col_texts,\n",
    "    sentence_col=\"sentences\",\n",
    "    meta_cols=[\"base_path\", \"content_id\"],\n",
    "    outfile=os.path.join(os.environ.get(\"DIR_DATA_INTERIM\"), \"col-sentences.jsonl\"),\n",
    ")"
   ]
  },
  {
   "cell_type": "code",
   "execution_count": null,
   "metadata": {},
   "outputs": [],
   "source": []
  }
 ],
 "metadata": {
  "interpreter": {
   "hash": "cb78078aff4f0fca0b87149217d885ad4dd99935d8eaa10d490c5420d431fcbd"
  },
  "language_info": {
   "codemirror_mode": {
    "name": "ipython",
    "version": 3
   },
   "file_extension": ".py",
   "mimetype": "text/x-python",
   "name": "python",
   "nbconvert_exporter": "python",
   "pygments_lexer": "ipython3",
   "version": "3.9.12"
  }
 },
 "nbformat": 4,
 "nbformat_minor": 2
}
