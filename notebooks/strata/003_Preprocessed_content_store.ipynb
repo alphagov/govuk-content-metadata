{
 "cells": [
  {
   "cell_type": "code",
   "execution_count": null,
   "metadata": {},
   "outputs": [],
   "source": [
    "import json\n",
    "import os\n",
    "\n",
    "import jsonlines\n",
    "import pandas as pd\n",
    "import spacy\n",
    "from dotenv import load_dotenv  # pip install python-dotenv\n",
    "from tqdm import tqdm\n",
    "from tqdm.auto import tqdm  # for notebooks\n",
    "\n",
    "# make sure a .env file exists in the same directory, with a line like this:\n",
    "# KG_PWD=<insert password here>\n",
    "load_dotenv()\n",
    "pd.set_option('display.max_columns', None)\n",
    "tqdm.pandas()"
   ]
  },
  {
   "cell_type": "code",
   "execution_count": null,
   "metadata": {},
   "outputs": [],
   "source": [
    "DIR_SRC_STRATA = os.environ.get('DIR_SRC_STRATA')\n",
    "os.listdir(DIR_SRC_STRATA)"
   ]
  },
  {
   "cell_type": "code",
   "execution_count": null,
   "metadata": {},
   "outputs": [],
   "source": [
    "os.listdir('/tmp/govukmirror/')"
   ]
  },
  {
   "cell_type": "code",
   "execution_count": null,
   "metadata": {},
   "outputs": [],
   "source": [
    "df = pd.read_csv('/tmp/govukmirror/preprocessed_content_store_250522.csv.gz', compression='gzip', header=0, sep=\"\\t\")"
   ]
  },
  {
   "cell_type": "code",
   "execution_count": null,
   "metadata": {},
   "outputs": [],
   "source": [
    "df.tail()"
   ]
  },
  {
   "cell_type": "code",
   "execution_count": null,
   "metadata": {},
   "outputs": [],
   "source": [
    "DIR_SRC_STRATA = os.environ.get('DIR_SRC_STRATA')\n",
    "\n",
    "base_paths_df = pd.read_csv(os.path.join(DIR_SRC_STRATA, 'data/schemas_stratified_random_sample.csv'))\n",
    "base_paths_list = list(base_paths_df['base_path'])\n",
    "len(base_paths_list)"
   ]
  },
  {
   "cell_type": "code",
   "execution_count": null,
   "metadata": {},
   "outputs": [],
   "source": [
    "pp_contentstore = df.copy()"
   ]
  },
  {
   "cell_type": "code",
   "execution_count": null,
   "metadata": {},
   "outputs": [],
   "source": [
    "pp_contentstore_filt = pp_contentstore[pp_contentstore['base_path'].isin(base_paths_list)]"
   ]
  },
  {
   "cell_type": "code",
   "execution_count": null,
   "metadata": {},
   "outputs": [],
   "source": [
    "pp_contentstore_filt.shape"
   ]
  },
  {
   "cell_type": "code",
   "execution_count": null,
   "metadata": {},
   "outputs": [],
   "source": [
    "pp_contentstore"
   ]
  },
  {
   "cell_type": "code",
   "execution_count": null,
   "metadata": {},
   "outputs": [],
   "source": [
    "for i,v in pp_contentstore_filt.iterrows():\n",
    "    \n",
    "    print(v['base_path'])\n",
    "    print(v['text'])\n",
    "    print(\"*\"*20)"
   ]
  },
  {
   "cell_type": "markdown",
   "metadata": {},
   "source": [
    "## 3. Split to sentences"
   ]
  },
  {
   "cell_type": "code",
   "execution_count": null,
   "metadata": {},
   "outputs": [],
   "source": [
    "nlp = spacy.load(\"en_core_web_md\")\n",
    "def text_to_sents(text):\n",
    "    doc = nlp(text)\n",
    "    assert doc.has_annotation(\"SENT_START\")\n",
    "    sent_list = [sent.text for sent in doc.sents]\n",
    "    return sent_list"
   ]
  },
  {
   "cell_type": "code",
   "execution_count": null,
   "metadata": {},
   "outputs": [],
   "source": [
    "pp_contentstore_trim = pp_contentstore_filt[['base_path', 'content_id', 'text']]"
   ]
  },
  {
   "cell_type": "code",
   "execution_count": null,
   "metadata": {},
   "outputs": [],
   "source": [
    "pp_contentstore_trim['text'] = pp_contentstore_trim['text'].progress_apply(lambda x: str(x))"
   ]
  },
  {
   "cell_type": "code",
   "execution_count": null,
   "metadata": {},
   "outputs": [],
   "source": [
    "pp_contentstore_trim['sentences'] = pp_contentstore_trim['text'].progress_apply(lambda x: text_to_sents(x))"
   ]
  },
  {
   "cell_type": "code",
   "execution_count": null,
   "metadata": {},
   "outputs": [],
   "source": [
    "pp_contentstore_trim.head()"
   ]
  },
  {
   "cell_type": "code",
   "execution_count": null,
   "metadata": {},
   "outputs": [],
   "source": [
    "for idx, sent in pp_contentstore_trim.head(2).iterrows():\n",
    "    print(sent['sentences'])\n",
    "    print('*'*20)"
   ]
  },
  {
   "cell_type": "markdown",
   "metadata": {},
   "source": [
    "## 4. Get into Prodigy format"
   ]
  },
  {
   "cell_type": "code",
   "execution_count": null,
   "metadata": {},
   "outputs": [],
   "source": [
    "[\n",
    "  {\"text\": \"This is a sentence\", \"meta\": {\"base_path\": \"/some/path\", \"content_id\": 1234}},\n",
    "  {\"text\": \"This is another sentence\", \"meta\": {\"base_path\": \"/some/other/path\", \"content_id\": 5678}},\n",
    "]"
   ]
  },
  {
   "cell_type": "code",
   "execution_count": null,
   "metadata": {},
   "outputs": [],
   "source": [
    "# dict_lines = []\n",
    "# for i, row in tqdm(pp_contentstore_trim.iterrows()):\n",
    "#     base_path = row['base_path']\n",
    "#     c_id = row['content_id']\n",
    "#     for sentence in row['sentences']:\n",
    "#         dict_line = {\"text\": sentence, \"meta\": {\"base_path\": base_path, \"content_id\": c_id}}\n",
    "#         dict_lines.append(dict_line)\n",
    "# with open('file.jsonl', 'w') as jsonlfile:\n",
    "#     jsonlfile.write('\\n'.join(json.dumps(i) for i in dict_lines))\n",
    "\n",
    "def sentences_to_jsonl(dataframe, sentence_col, meta_cols, outfile):\n",
    "    dict_lines = []\n",
    "    for i, row in tqdm(dataframe.iterrows()):\n",
    "        for sentence in row[sentence_col]:\n",
    "            #dict_line = {\"text\": sentence, \"meta\": {\"base_path\": base_path, \"content_id\": c_id}}\n",
    "            dict_line = {\"text\": sentence, \"meta\": {i: row[i] for i in meta_cols}}\n",
    "            dict_lines.append(dict_line)\n",
    "    with open(outfile, 'w') as jsonlfile:\n",
    "        jsonlfile.write('\\n'.join(json.dumps(j) for j in dict_lines))"
   ]
  },
  {
   "cell_type": "code",
   "execution_count": null,
   "metadata": {},
   "outputs": [],
   "source": [
    "sentences_to_jsonl(dataframe=pp_contentstore_trim, sentence_col='sentences', meta_cols=['base_path', 'content_id'], outfile='func.jsonl')"
   ]
  },
  {
   "cell_type": "code",
   "execution_count": null,
   "metadata": {},
   "outputs": [],
   "source": [
    "dict_lines[:5]"
   ]
  },
  {
   "cell_type": "code",
   "execution_count": null,
   "metadata": {},
   "outputs": [],
   "source": []
  },
  {
   "cell_type": "code",
   "execution_count": null,
   "metadata": {},
   "outputs": [],
   "source": []
  }
 ],
 "metadata": {
  "interpreter": {
   "hash": "cb78078aff4f0fca0b87149217d885ad4dd99935d8eaa10d490c5420d431fcbd"
  },
  "language_info": {
   "codemirror_mode": {
    "name": "ipython",
    "version": 3
   },
   "file_extension": ".py",
   "mimetype": "text/x-python",
   "name": "python",
   "nbconvert_exporter": "python",
   "pygments_lexer": "ipython3",
   "version": "3.9.12"
  }
 },
 "nbformat": 4,
 "nbformat_minor": 2
}
