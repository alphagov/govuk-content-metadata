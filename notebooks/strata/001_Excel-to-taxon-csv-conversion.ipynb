{
 "cells": [
  {
   "cell_type": "markdown",
   "metadata": {},
   "source": [
    "# 001_Excel-to-taxon-csv-conversion\n",
    "\n",
    "Purpose:\n",
    "No 'STRATA_COUNTS_OUTPUT_FILEPATH' file in the local directory - likely due to .gitignore on the data/ folder.\n",
    "1. File downloaded from gdrive\n",
    "2. Processed\n",
    "3. .csv saved to data folder"
   ]
  },
  {
   "cell_type": "code",
   "execution_count": null,
   "metadata": {},
   "outputs": [],
   "source": [
    "import os\n",
    "from typing import Dict\n",
    "\n",
    "import pandas as pd\n",
    "import yaml\n",
    "from dotenv import load_dotenv  # pip install python-dotenv\n",
    "\n",
    "# make sure a .env file exists in the same directory, with a line like this:\n",
    "# KG_PWD=<insert password here>\n",
    "load_dotenv()"
   ]
  },
  {
   "cell_type": "code",
   "execution_count": null,
   "metadata": {},
   "outputs": [],
   "source": [
    "DIR_SRC_STRATA = os.environ.get('DIR_SRC_STRATA')\n",
    "DIR_SRC_STRATA"
   ]
  },
  {
   "cell_type": "code",
   "execution_count": null,
   "metadata": {},
   "outputs": [],
   "source": [
    "os.listdir(DIR_SRC_STRATA)"
   ]
  },
  {
   "cell_type": "code",
   "execution_count": null,
   "metadata": {},
   "outputs": [],
   "source": [
    "strata_df = pd.read_excel(\"~/Downloads/strata_schema_docs_pubapp_taxons.xlsx\", sheet_name=4)"
   ]
  },
  {
   "cell_type": "code",
   "execution_count": null,
   "metadata": {},
   "outputs": [],
   "source": [
    "strata_df = strata_df.iloc[:, :-2]\n",
    "strata_df.to_csv('data/strata_schema_docs_taxons.csv', index=None)\n",
    "strata_df"
   ]
  },
  {
   "cell_type": "code",
   "execution_count": null,
   "metadata": {},
   "outputs": [],
   "source": [
    "os.listdir()"
   ]
  },
  {
   "cell_type": "code",
   "execution_count": null,
   "metadata": {},
   "outputs": [],
   "source": [
    "STRATA_INPUT_FILEPATH = \"data/strata_schema_docs_taxons.csv\"\n",
    "strata_df = pd.read_csv(STRATA_INPUT_FILEPATH)\n",
    "\n",
    "print(strata_df.head())"
   ]
  }
 ],
 "metadata": {
  "interpreter": {
   "hash": "cb78078aff4f0fca0b87149217d885ad4dd99935d8eaa10d490c5420d431fcbd"
  },
  "language_info": {
   "codemirror_mode": {
    "name": "ipython",
    "version": 3
   },
   "file_extension": ".py",
   "mimetype": "text/x-python",
   "name": "python",
   "nbconvert_exporter": "python",
   "pygments_lexer": "ipython3",
   "version": "3.9.12"
  }
 },
 "nbformat": 4,
 "nbformat_minor": 2
}
