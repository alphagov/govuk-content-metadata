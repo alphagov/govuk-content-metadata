{
 "cells": [
  {
   "cell_type": "code",
   "execution_count": null,
   "metadata": {},
   "outputs": [],
   "source": [
    "import os\n",
    "\n",
    "import pandas as pd\n",
    "from google.colab import drive"
   ]
  },
  {
   "cell_type": "markdown",
   "metadata": {},
   "source": [
    "Let's read in the UN data downloaded from: https://github.com/leslie-huang/UN-named-entity-recognition\n",
    "\n",
    "Each document is in its own .txt, where each row is a token alongside its named entity label.\n",
    "\n",
    "Mount your Google Drive and you'll be able to access this data by running the code below."
   ]
  },
  {
   "cell_type": "code",
   "execution_count": null,
   "metadata": {},
   "outputs": [],
   "source": [
    "DATA_DIR = \"/content/drive/Shareddrives/GOV.UK teams/2020-2021/Data labs/content-metadata-2021/Data\"\n",
    "UN_DATA_DIR = DATA_DIR + \"/un_ner_data\""
   ]
  },
  {
   "cell_type": "markdown",
   "metadata": {},
   "source": [
    "Get the paths of all the UN data stored in G Drive."
   ]
  },
  {
   "cell_type": "code",
   "execution_count": null,
   "metadata": {},
   "outputs": [],
   "source": [
    "un_test_paths = [\n",
    "    UN_DATA_DIR + \"/leslie-huang UN-named-entity-recognition master tagged-test/\" + f\n",
    "    for f in os.listdir(\n",
    "        UN_DATA_DIR + \"/leslie-huang UN-named-entity-recognition master tagged-test\"\n",
    "    )\n",
    "]\n",
    "un_train_paths = [\n",
    "    UN_DATA_DIR\n",
    "    + \"/leslie-huang UN-named-entity-recognition master tagged-training/\"\n",
    "    + f\n",
    "    for f in os.listdir(\n",
    "        UN_DATA_DIR + \"/leslie-huang UN-named-entity-recognition master tagged-training\"\n",
    "    )\n",
    "]\n",
    "un_paths = un_test_paths + un_train_paths"
   ]
  },
  {
   "cell_type": "code",
   "execution_count": null,
   "metadata": {},
   "outputs": [],
   "source": [
    "un_paths[:3]"
   ]
  },
  {
   "cell_type": "markdown",
   "metadata": {},
   "source": [
    "Read each of the UN files into a records format."
   ]
  },
  {
   "cell_type": "code",
   "execution_count": null,
   "metadata": {},
   "outputs": [],
   "source": [
    "un_data = [\n",
    "    list(zip(*pd.read_csv(path, sep=\"\\t\", header=None).to_records(index=False)))\n",
    "    for path in un_paths\n",
    "]"
   ]
  },
  {
   "cell_type": "markdown",
   "metadata": {},
   "source": [
    "Convert the records format into a data frame."
   ]
  },
  {
   "cell_type": "code",
   "execution_count": null,
   "metadata": {},
   "outputs": [],
   "source": [
    "# get the data frame\n",
    "un_df = pd.DataFrame.from_records(un_data, columns=[\"text_token\", \"label_list\"])\n",
    "\n",
    "# get rid of some null values\n",
    "un_df = un_df.loc[~un_df.label_list.isnull()]\n",
    "\n",
    "# the zip function above creates tuples, so let's cast them to lists to make it consistent\n",
    "# with our existing data from gov.uk\n",
    "un_df = un_df.applymap(list)\n",
    "\n",
    "# create a column with a single string of text\n",
    "un_df[\"text\"] = un_df.text_token.apply(lambda x: \" \".join(x))\n",
    "\n",
    "un_df.head()"
   ]
  },
  {
   "cell_type": "markdown",
   "metadata": {},
   "source": [
    "Check if B- prefix occurs in the labels."
   ]
  },
  {
   "cell_type": "code",
   "execution_count": null,
   "metadata": {},
   "outputs": [],
   "source": [
    "for ll in un_df.label_list:\n",
    "    if \"B-\" in \" \".join(ll):\n",
    "        print(ll)"
   ]
  }
 ],
 "metadata": {
  "language_info": {
   "name": "python"
  }
 },
 "nbformat": 4,
 "nbformat_minor": 0
}
