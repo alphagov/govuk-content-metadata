{
 "cells": [
  {
   "cell_type": "markdown",
   "metadata": {},
   "source": [
    "# Literal Eval Conversions"
   ]
  },
  {
   "cell_type": "code",
   "execution_count": null,
   "metadata": {},
   "outputs": [],
   "source": [
    "# !pip install datasets\n",
    "# !pip install transformers"
   ]
  },
  {
   "cell_type": "code",
   "execution_count": null,
   "metadata": {},
   "outputs": [],
   "source": [
    "import json\n",
    "import os\n",
    "from ast import literal_eval\n",
    "from collections import OrderedDict\n",
    "\n",
    "import pandas as pd\n",
    "import transformers\n",
    "from datasets import ClassLabel, Dataset, Sequence, load_dataset\n",
    "from sklearn.model_selection import train_test_split"
   ]
  },
  {
   "cell_type": "code",
   "execution_count": null,
   "metadata": {},
   "outputs": [],
   "source": [
    "system = \"COLAB\"\n",
    "\n",
    "if system == \"COLAB\":\n",
    "    from google.colab import drive\n",
    "\n",
    "    drive.mount(\"/content/gdrive\")\n",
    "    # DATA_DIR = os.path.join(\"/content/gdrive/My Drive\", \"NER/Data\")\n",
    "    DATA_DIR = os.path.join(\n",
    "        \"/content/gdrive/Shareddrives/\",\n",
    "        \"GOV.UK teams/2020-2021/Data labs/content-metadata-2021/Data\",\n",
    "    )"
   ]
  },
  {
   "cell_type": "markdown",
   "metadata": {},
   "source": [
    "## 1. New Label Map"
   ]
  },
  {
   "cell_type": "code",
   "execution_count": null,
   "metadata": {},
   "outputs": [],
   "source": [
    "old_label_map = {\n",
    "    \"O\": 0,\n",
    "    \"CONTACT\": 1,\n",
    "    \"DATE\": 2,\n",
    "    \"EVENT\": 3,\n",
    "    \"FINANCE\": 4,\n",
    "    \"FORM\": 5,\n",
    "    \"LOCATION\": 6,\n",
    "    \"MISC\": 7,\n",
    "    \"MONEY\": 8,\n",
    "    \"ORGANIZATION\": 9,\n",
    "    \"PERSON\": 10,\n",
    "    \"SCHEME\": 11,\n",
    "    \"STATE\": 12,\n",
    "}"
   ]
  },
  {
   "cell_type": "code",
   "execution_count": null,
   "metadata": {},
   "outputs": [],
   "source": [
    "new_label_map_mapping = {\n",
    "    \"CONTACT\": \"I-CONTACT\",\n",
    "    \"DATE\": \"I-DATE\",\n",
    "    \"EVENT\": \"I-EVENT\",\n",
    "    \"FINANCE\": \"I-FINANCE\",\n",
    "    \"FORM\": \"I-FORM\",\n",
    "    \"LOCATION\": \"I-LOC\",\n",
    "    \"MISC\": \"I-MISC\",\n",
    "    \"MONEY\": \"I-MONEY\",\n",
    "    \"O\": \"O\",\n",
    "    \"ORGANIZATION\": \"I-ORG\",\n",
    "    \"PERSON\": \"I-PER\",\n",
    "    \"SCHEME\": \"I-SCHEME\",\n",
    "    \"STATE\": \"I-STATE\",\n",
    "}"
   ]
  },
  {
   "cell_type": "markdown",
   "metadata": {},
   "source": [
    "## 2. Convert Label Convention\n",
    "\n",
    "Read in dataset from CSV..."
   ]
  },
  {
   "cell_type": "code",
   "execution_count": null,
   "metadata": {},
   "outputs": [],
   "source": [
    "save_df_name = \"govuk-labelled-data-ner.csv\"\n",
    "save_df_path = f\"{DATA_DIR}/{save_df_name}\"\n",
    "save_df_path"
   ]
  },
  {
   "cell_type": "code",
   "execution_count": null,
   "metadata": {},
   "outputs": [],
   "source": [
    "all_data = pd.read_csv(save_df_path)"
   ]
  },
  {
   "cell_type": "markdown",
   "metadata": {},
   "source": [
    "Evaluate literals..."
   ]
  },
  {
   "cell_type": "code",
   "execution_count": null,
   "metadata": {},
   "outputs": [],
   "source": [
    "all_data[\"text_token\"] = all_data[\"text_token\"].apply(lambda x: literal_eval(x))\n",
    "all_data[\"labels\"] = all_data[\"labels\"].apply(lambda x: literal_eval(x))\n",
    "all_data[\"label_list\"] = all_data[\"label_list\"].apply(lambda x: literal_eval(x))"
   ]
  },
  {
   "cell_type": "code",
   "execution_count": null,
   "metadata": {},
   "outputs": [],
   "source": [
    "all_data.head()"
   ]
  },
  {
   "cell_type": "markdown",
   "metadata": {},
   "source": [
    "Casting the replacement tags. The tags will need replacing in the following columns..."
   ]
  },
  {
   "cell_type": "code",
   "execution_count": null,
   "metadata": {},
   "outputs": [],
   "source": [
    "df_IO = all_data"
   ]
  },
  {
   "cell_type": "code",
   "execution_count": null,
   "metadata": {},
   "outputs": [],
   "source": [
    "def list_rep(lists, lookup):\n",
    "    new_list = []\n",
    "    for l in lists:\n",
    "        new_l = []\n",
    "        for i in l:\n",
    "            if isinstance(i, str):\n",
    "                i = lookup[i]\n",
    "            else:\n",
    "                i = i\n",
    "            new_l.append(i)\n",
    "        new_list.append(new_l)\n",
    "    return new_list"
   ]
  },
  {
   "cell_type": "code",
   "execution_count": null,
   "metadata": {},
   "outputs": [],
   "source": [
    "df_IO[\"labels\"] = df_IO[\"labels\"].apply(\n",
    "    lambda x: list_rep(x, lookup=new_label_map_mapping)\n",
    ")\n",
    "df_IO[\"label_list\"] = df_IO[\"label_list\"].apply(\n",
    "    lambda x: list(map(new_label_map_mapping.get, x))\n",
    ")"
   ]
  },
  {
   "cell_type": "code",
   "execution_count": null,
   "metadata": {},
   "outputs": [],
   "source": [
    "df_IO.head(10)"
   ]
  },
  {
   "cell_type": "code",
   "execution_count": null,
   "metadata": {},
   "outputs": [],
   "source": [
    "samp_df_IO = df_IO.sample(10000)"
   ]
  },
  {
   "cell_type": "markdown",
   "metadata": {},
   "source": [
    "Save main to file..."
   ]
  },
  {
   "cell_type": "code",
   "execution_count": null,
   "metadata": {},
   "outputs": [],
   "source": [
    "save_path = \"/content/gdrive/Shareddrives/GOV.UK teams/2020-2021/Data labs/content-metadata-2021/Data/IO-annotation_scheme\"\n",
    "save_name = os.path.join(save_path, \"i-o_labelled_data.csv\")\n",
    "df_IO.to_csv(save_name, index=None)"
   ]
  },
  {
   "cell_type": "markdown",
   "metadata": {},
   "source": [
    "Save sampled to file..."
   ]
  },
  {
   "cell_type": "code",
   "execution_count": null,
   "metadata": {},
   "outputs": [],
   "source": [
    "save_path = \"/content/gdrive/Shareddrives/GOV.UK teams/2020-2021/Data labs/content-metadata-2021/Data/IO-annotation_scheme\"\n",
    "save_name = os.path.join(save_path, \"i-o_labelled_data_samp.csv\")\n",
    "samp_df_IO.to_csv(save_name, index=None)"
   ]
  },
  {
   "cell_type": "markdown",
   "metadata": {},
   "source": [
    "Save mappings to json file "
   ]
  },
  {
   "cell_type": "code",
   "execution_count": null,
   "metadata": {},
   "outputs": [],
   "source": [
    "label_map = {\n",
    "    \"O\": 0,\n",
    "    \"I-CONTACT\": 1,\n",
    "    \"I-DATE\": 2,\n",
    "    \"I-EVENT\": 3,\n",
    "    \"I-FINANCE\": 4,\n",
    "    \"I-FORM\": 5,\n",
    "    \"I-LOC\": 6,\n",
    "    \"I-MISC\": 7,\n",
    "    \"I-MONEY\": 8,\n",
    "    \"I-ORG\": 9,\n",
    "    \"I-PER\": 10,\n",
    "    \"I-SCHEME\": 11,\n",
    "    \"I-STATE\": 12,\n",
    "}"
   ]
  },
  {
   "cell_type": "code",
   "execution_count": null,
   "metadata": {},
   "outputs": [],
   "source": [
    "save_path = \"/content/gdrive/Shareddrives/GOV.UK teams/2020-2021/Data labs/content-metadata-2021/Data/IO-annotation_scheme\"\n",
    "save_name = os.path.join(save_path, \"i-o_label_map.json\")"
   ]
  },
  {
   "cell_type": "code",
   "execution_count": null,
   "metadata": {},
   "outputs": [],
   "source": [
    "with open(save_name, \"w\") as fp:\n",
    "    json.dump(label_map, fp)"
   ]
  },
  {
   "cell_type": "markdown",
   "metadata": {},
   "source": [
    "## 3. Huggingface Preparation"
   ]
  },
  {
   "cell_type": "markdown",
   "metadata": {},
   "source": [
    "### 3.1 Main Data"
   ]
  },
  {
   "cell_type": "code",
   "execution_count": null,
   "metadata": {},
   "outputs": [],
   "source": [
    "file_path = \"/content/gdrive/Shareddrives/GOV.UK teams/2020-2021/Data labs/content-metadata-2021/Data/IO-annotation_scheme\"\n",
    "file_name = os.path.join(save_path, \"i-o_labelled_data.csv\")\n",
    "df = pd.read_csv(file_name)"
   ]
  },
  {
   "cell_type": "code",
   "execution_count": null,
   "metadata": {},
   "outputs": [],
   "source": [
    "df_trim = df[[\"text_token\", \"new_label_list_id\"]]\n",
    "df_trim.head()"
   ]
  },
  {
   "cell_type": "code",
   "execution_count": null,
   "metadata": {},
   "outputs": [],
   "source": [
    "hf_dataset = Dataset.from_pandas(df)"
   ]
  },
  {
   "cell_type": "code",
   "execution_count": null,
   "metadata": {},
   "outputs": [],
   "source": [
    "labels = [i for i in label_map.keys()]\n",
    "labels"
   ]
  },
  {
   "cell_type": "code",
   "execution_count": null,
   "metadata": {},
   "outputs": [],
   "source": [
    "for j in [\"text_token\", \"new_label_list_id\"]:\n",
    "    print(\"{}: {}\".format(j, hf_dataset.features[f\"{j}\"]))\n",
    "print()\n",
    "\n",
    "hf_dataset.features[\"new_label_list_id\"] = Sequence(ClassLabel(13, labels), -1, id=None)"
   ]
  },
  {
   "cell_type": "code",
   "execution_count": null,
   "metadata": {},
   "outputs": [],
   "source": [
    "hf_dataset = hf_dataset.train_test_split(train_size=0.85, seed=42)"
   ]
  },
  {
   "cell_type": "code",
   "execution_count": null,
   "metadata": {},
   "outputs": [],
   "source": [
    "hf_dataset"
   ]
  },
  {
   "cell_type": "code",
   "execution_count": null,
   "metadata": {},
   "outputs": [],
   "source": [
    "dataset_name = \"hf_govuk_data_i-o\""
   ]
  },
  {
   "cell_type": "code",
   "execution_count": null,
   "metadata": {},
   "outputs": [],
   "source": [
    "dataset_name_path = f\"{file_path}/{dataset_name}\"\n",
    "dataset_name_path"
   ]
  },
  {
   "cell_type": "code",
   "execution_count": null,
   "metadata": {},
   "outputs": [],
   "source": [
    "# save train_dataset to gdrive\n",
    "hf_input_path = f\"{dataset_name_path}\"\n",
    "hf_dataset.save_to_disk(hf_input_path)"
   ]
  },
  {
   "cell_type": "code",
   "execution_count": null,
   "metadata": {},
   "outputs": [],
   "source": []
  },
  {
   "cell_type": "markdown",
   "metadata": {},
   "source": [
    "### 3.2 Sampled Data"
   ]
  },
  {
   "cell_type": "code",
   "execution_count": null,
   "metadata": {},
   "outputs": [],
   "source": [
    "file_path = \"/content/gdrive/Shareddrives/GOV.UK teams/2020-2021/Data labs/content-metadata-2021/Data/IO-annotation_scheme\"\n",
    "file_name = os.path.join(save_path, \"i-o_labelled_data_samp.csv\")\n",
    "df = pd.read_csv(file_name)"
   ]
  },
  {
   "cell_type": "code",
   "execution_count": null,
   "metadata": {},
   "outputs": [],
   "source": [
    "hf_dataset = Dataset.from_pandas(df)"
   ]
  },
  {
   "cell_type": "code",
   "execution_count": null,
   "metadata": {},
   "outputs": [],
   "source": [
    "hf_dataset = hf_dataset.train_test_split(train_size=0.85, seed=42)"
   ]
  },
  {
   "cell_type": "code",
   "execution_count": null,
   "metadata": {},
   "outputs": [],
   "source": [
    "hf_dataset"
   ]
  },
  {
   "cell_type": "code",
   "execution_count": null,
   "metadata": {},
   "outputs": [],
   "source": [
    "for j in [\"text_token\", \"new_label_list_id\"]:\n",
    "    print(\"{}: {}\".format(j, hf_dataset.features[f\"{j}\"]))\n",
    "print()\n",
    "\n",
    "labels = [i for i in label_map.keys()]\n",
    "\n",
    "hf_dataset.features[\"new_label_list_id\"] = Sequence(ClassLabel(13, labels), -1, id=None)"
   ]
  },
  {
   "cell_type": "code",
   "execution_count": null,
   "metadata": {},
   "outputs": [],
   "source": [
    "dataset_name = \"samp_hf_govuk_data_i-o\""
   ]
  },
  {
   "cell_type": "code",
   "execution_count": null,
   "metadata": {},
   "outputs": [],
   "source": [
    "dataset_name_path = f\"{file_path}/{dataset_name}\"\n",
    "dataset_name_path"
   ]
  },
  {
   "cell_type": "code",
   "execution_count": null,
   "metadata": {},
   "outputs": [],
   "source": [
    "# save train_dataset to gdrive\n",
    "hf_input_path = f\"{dataset_name_path}\"\n",
    "hf_dataset.save_to_disk(hf_input_path)"
   ]
  },
  {
   "cell_type": "code",
   "execution_count": null,
   "metadata": {},
   "outputs": [],
   "source": []
  }
 ],
 "metadata": {
  "language_info": {
   "name": "python"
  }
 },
 "nbformat": 4,
 "nbformat_minor": 0
}
