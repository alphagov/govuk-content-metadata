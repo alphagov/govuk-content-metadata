{
 "cells": [
  {
   "cell_type": "markdown",
   "metadata": {},
   "source": [
    "# Modular Training Notebook\n",
    "\n",
    "This notebook is designed to facilitate fine-tuning of a transformer model on some data."
   ]
  },
  {
   "cell_type": "markdown",
   "metadata": {},
   "source": [
    "## 1. Imports and Setup"
   ]
  },
  {
   "cell_type": "code",
   "execution_count": null,
   "metadata": {},
   "outputs": [],
   "source": [
    "!pip install datasets transformers torch seqeval &> /dev/null"
   ]
  },
  {
   "cell_type": "code",
   "execution_count": null,
   "metadata": {},
   "outputs": [],
   "source": [
    "import os\n",
    "from ast import literal_eval\n",
    "\n",
    "import datasets\n",
    "import pandas as pd\n",
    "from google.colab import drive"
   ]
  },
  {
   "cell_type": "code",
   "execution_count": null,
   "metadata": {},
   "outputs": [],
   "source": [
    "system = \"COLAB\"\n",
    "\n",
    "if system == \"COLAB\":\n",
    "    drive.mount(\"/content/gdrive\")\n",
    "    DATA_DIR = os.path.join(\n",
    "        \"/content/gdrive/Shared drives/\",\n",
    "        \"GOV.UK teams/2020-2021/Data labs/content-metadata-2021/Data\",\n",
    "    )\n",
    "    MODEL_DIR = os.path.join(\n",
    "        \"/content/gdrive/Shared drives/\",\n",
    "        \"GOV.UK teams/2020-2021/Data labs/content-metadata-2021/Models\",\n",
    "    )\n",
    "    RESULTS_DIR = os.path.join(\n",
    "        \"/content/gdrive/Shared drives/\",\n",
    "        \"GOV.UK teams/2020-2021/Data labs/content-metadata-2021/Models/Metrics\",\n",
    "    )\n",
    "\n",
    "os.chdir(\n",
    "    os.path.join(\n",
    "        \"/content/gdrive/Shared drives/\",\n",
    "        \"GOV.UK teams/2020-2021/Data labs/content-metadata-2021\",\n",
    "    )\n",
    ")"
   ]
  },
  {
   "cell_type": "markdown",
   "metadata": {},
   "source": [
    "## 2. Variables"
   ]
  },
  {
   "cell_type": "code",
   "execution_count": null,
   "metadata": {
    "cellView": "form"
   },
   "outputs": [],
   "source": [
    "# @title BERT Fine-Tuning Config\n",
    "# @markdown Fill in the below fields to define the environment variables used when training the model.\n",
    "\n",
    "# @markdown Where your model will be saved:\n",
    "ModelFolder = \"/content/gdrive/Shared drives/GOV.UK teams/2020-2021/Data labs/content-metadata-2021/Models\"  # @param {type:\"string\"}\n",
    "# @markdown Path to your training pytorch dataset:\n",
    "TrainDataFolder = \"/content/gdrive/Shareddrives/GOV.UK teams/2020-2021/Data labs/content-metadata-2021/Data/Feb2022-Data/Feb22-HF/unvalidated_train\"  # @param {type:\"string\"}\n",
    "# @markdown Path to your test pytorch dataset:\n",
    "TestDataFolder = \"/content/gdrive/Shareddrives/GOV.UK teams/2020-2021/Data labs/content-metadata-2021/Data/Feb2022-Data/Feb22-HF/validated_test\"  # @param {type:\"string\"}\n",
    "# @markdown Path to your label mapping file (json):\n",
    "MappingFile = \"/content/gdrive/Shareddrives/GOV.UK teams/2020-2021/Data labs/content-metadata-2021/Data/Feb2022-Data/Feb22-HF/full_labelmap.json\"  # @param {type:\"string\"}\n",
    "# @markdown Number of GPUs to use:\n",
    "GPUS = 1  # @param [\"1\", \"2\", \"3\", \"4\"] {type:\"raw\"}\n",
    "\n",
    "%env SM_MODEL_DIR=$ModelFolder\n",
    "%env SM_TRAIN_DATA=$TrainDataFolder\n",
    "%env SM_TEST_DATA=$TestDataFolder\n",
    "%env SM_MAPPING_FILE=$MappingFile\n",
    "%env SM_NUM_GPUS =$GPUS"
   ]
  },
  {
   "cell_type": "markdown",
   "metadata": {},
   "source": [
    "## 3. Training"
   ]
  },
  {
   "cell_type": "code",
   "execution_count": null,
   "metadata": {},
   "outputs": [],
   "source": [
    "!pygmentize ./Scripts/NER_training_script.py"
   ]
  },
  {
   "cell_type": "code",
   "execution_count": null,
   "metadata": {},
   "outputs": [],
   "source": [
    "!python ./Scripts/NER_training_script.py --epochs 4 --model_id distilbert-base-uncased --train_batch_size 16 --eval_batch_size 16"
   ]
  },
  {
   "cell_type": "code",
   "execution_count": null,
   "metadata": {},
   "outputs": [],
   "source": []
  }
 ],
 "metadata": {
  "accelerator": "GPU",
  "language_info": {
   "name": "python"
  }
 },
 "nbformat": 4,
 "nbformat_minor": 0
}
