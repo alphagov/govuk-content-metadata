{
 "cells": [
  {
   "cell_type": "code",
   "execution_count": null,
   "metadata": {},
   "outputs": [],
   "source": [
    "import argparse\n",
    "import json\n",
    "\n",
    "import pandas as pd"
   ]
  },
  {
   "cell_type": "code",
   "execution_count": null,
   "metadata": {},
   "outputs": [],
   "source": [
    "file = r\"/Users/rory.hurley/Downloads/results-20221220-164837.xlsx\""
   ]
  },
  {
   "cell_type": "code",
   "execution_count": null,
   "metadata": {},
   "outputs": [],
   "source": [
    "df = pd.read_excel(file, skiprows=0)"
   ]
  },
  {
   "cell_type": "code",
   "execution_count": null,
   "metadata": {},
   "outputs": [],
   "source": [
    "df.head()"
   ]
  },
  {
   "cell_type": "code",
   "execution_count": null,
   "metadata": {},
   "outputs": [],
   "source": [
    "def df_to_match_patterns(dataframe, outfile) -> json:\n",
    "    \"\"\"Converts rows of a DataFrame into Spacy match pattern format.\n",
    "\n",
    "    Args:\n",
    "        dataframe (_type_): DataFrame\n",
    "        outfile (_type_): .JSONL file\n",
    "\n",
    "    Returns:\n",
    "        json: .JSONL file\n",
    "    \"\"\"\n",
    "    with open(outfile, \"w\") as file:\n",
    "        for i, val in dataframe.iterrows():\n",
    "            pattern = {\n",
    "                \"text\": val[\"line\"],\n",
    "                \"meta\": {\n",
    "                    \"url\": val[\"url\"],\n",
    "                    \"line_number\": val[\"line_number\"],\n",
    "                    \"regex_or_rand\": val[\"regex_or_rand\"],\n",
    "                },\n",
    "            }\n",
    "            print(pattern)\n",
    "            file.write(json.dumps(pattern))\n",
    "            file.write(\"\\n\")\n",
    "            # file.write(pattern)"
   ]
  },
  {
   "cell_type": "code",
   "execution_count": null,
   "metadata": {},
   "outputs": [],
   "source": [
    "df_to_match_patterns(df, \"/Users/rory.hurley/Downloads/phase_2_test.jsonl\")"
   ]
  },
  {
   "cell_type": "code",
   "execution_count": null,
   "metadata": {},
   "outputs": [],
   "source": []
  }
 ],
 "metadata": {
  "language_info": {
   "codemirror_mode": {
    "name": "ipython",
    "version": 3
   },
   "file_extension": ".py",
   "mimetype": "text/x-python",
   "name": "python",
   "nbconvert_exporter": "python",
   "pygments_lexer": "ipython3",
   "version": "3.10.9 (main, Dec 13 2022, 20:08:02) [Clang 14.0.0 (clang-1400.0.29.202)]"
  },
  "vscode": {
   "interpreter": {
    "hash": "0aede04b6ac27a8cb38803edc3314fb5cc1c96c27f29349cc7f0f479246ac3cf"
   }
  }
 },
 "nbformat": 4,
 "nbformat_minor": 2
}
